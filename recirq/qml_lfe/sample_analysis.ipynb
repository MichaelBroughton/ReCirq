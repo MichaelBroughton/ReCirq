{
 "cells": [
  {
   "cell_type": "markdown",
   "id": "bbdd6c60",
   "metadata": {
    "id": "35a4782cd01c"
   },
   "source": [
    "# Learning states with conventional experiment"
   ]
  },
  {
   "cell_type": "markdown",
   "id": "38297cf2",
   "metadata": {
    "id": "2eb02bf1e842"
   },
   "source": [
    "Using randomized Pauli measurement from https://www.nature.com/articles/s41567-020-0932-7 to predict which of the two Pauli observables have a higher magnitude of expectation value.\n",
    "The number of experiments need to scale exponentially with the system size $n$ to make accurate prediction.\n",
    "\n",
    "We perform measurement error mitigation as described in the manuscript (Appendix A.2.d)."
   ]
  },
  {
   "cell_type": "code",
   "execution_count": 1,
   "id": "c9c8af31",
   "metadata": {
    "id": "b68ecbbc6515"
   },
   "outputs": [
    {
     "name": "stdout",
     "output_type": "stream",
     "text": [
      "ACC: 0.465\n"
     ]
    }
   ],
   "source": [
    "import numpy as np\n",
    "from scipy.stats import moment\n",
    "import matplotlib.pyplot as plt\n",
    "import seaborn as sns\n",
    "import pandas as pd\n",
    "from sklearn import svm\n",
    "from sklearn.ensemble import RandomForestClassifier, RandomForestRegressor, GradientBoostingClassifier\n",
    "from os import listdir\n",
    "import random\n",
    "from os.path import isfile, join\n",
    "\n",
    "idx_to_pauli = [\"Z\", \"X\", \"Y\"]\n",
    "\n",
    "# Measurement-error-mitigated expectation value prediction\n",
    "def predict_exp(data, list_P, calib_2x2, inverse_cnt=20):\n",
    "    ttl_sum, ttl_cnt = 0, 0\n",
    "\n",
    "    for rep in range(inverse_cnt):\n",
    "        for _, a in enumerate(data):\n",
    "            val = 1\n",
    "            \n",
    "            for i, pauli in enumerate(list_P):\n",
    "                if pauli == \"I\": continue\n",
    "\n",
    "                p1, q1 = calib_2x2[2*i][0, 0], calib_2x2[2*i][1, 1]\n",
    "                \n",
    "                val *= 1 / (p1 + q1 - 1)\n",
    "                \n",
    "                a[i] = int(a[i])\n",
    "                b1 = int(a[i] // 2)\n",
    "                s1 = int(a[i] % 2)\n",
    "\n",
    "                if s1 == 0:\n",
    "                    if random.choices([0, 1], weights = [q1, 1-q1], k=1)[0] == 1:\n",
    "                        s1 = 1 - s1\n",
    "                        val *= -1\n",
    "                else:\n",
    "                    if random.choices([0, 1], weights = [p1, 1-p1], k=1)[0] == 1:\n",
    "                        s1 = 1 - s1\n",
    "                        val *= -1\n",
    "\n",
    "                if idx_to_pauli[b1] == pauli:\n",
    "                    val *= (1 if s1 == 0 else -1)\n",
    "                else:\n",
    "                    val = 0\n",
    "            \n",
    "            if val != 0:\n",
    "                ttl_sum += val\n",
    "                ttl_cnt += 1\n",
    "    return (ttl_sum / ttl_cnt if ttl_cnt > 0 else None)\n",
    "\n",
    "mypath = \"data/\"\n",
    "\n",
    "n = 8\n",
    "number_of_experiment = 500\n",
    "correct_cnt, total_cnt = 0, 0\n",
    "\n",
    "# Noiseless simulation (measurement error = 0)\n",
    "calib_2x2 = []\n",
    "for i in range(2*n):\n",
    "    conf_mtx = np.zeros((2, 2))\n",
    "    conf_mtx[0][0] = 1\n",
    "    conf_mtx[0][1] = 0\n",
    "    conf_mtx[1][0] = 0\n",
    "    conf_mtx[1][1] = 1\n",
    "    calib_2x2.append(conf_mtx)\n",
    "\n",
    "onlyfiles = [f for f in listdir(mypath) if isfile(join(mypath, f))]\n",
    "\n",
    "for file in onlyfiles * 5:\n",
    "    splt = file.split(\"-\")\n",
    "\n",
    "    if splt[0] != \"C\": continue\n",
    "    if int(splt[2]) != n: continue\n",
    "    if len(splt) != 5: continue\n",
    "\n",
    "    pauli = splt[-1][:-4]\n",
    "\n",
    "    binaryout = np.load(join(mypath, file))\n",
    "    basisout = np.load(join(mypath, \"-\".join(splt[:-1]) + \"-\" + splt[-1][:-4] + \"-basis.npy\"))\n",
    "    fulldata = basisout*2 + binaryout\n",
    "\n",
    "    data = np.random.permutation(fulldata)[:number_of_experiment]\n",
    "\n",
    "    rand_P = [random.choice([\"I\", \"X\", \"Y\", \"Z\"]) for i in range(n)]\n",
    "    while min([x == y for (x, y) in zip(pauli, rand_P)]) == 1 or sum([p == \"I\" for p in rand_P]) == (n):\n",
    "        rand_P = [random.choice([\"I\", \"X\", \"Y\", \"Z\"]) for i in range(n)]\n",
    "\n",
    "    pred1 = predict_exp(data, pauli, calib_2x2)\n",
    "    pred2 = predict_exp(data, rand_P, calib_2x2)\n",
    "    \n",
    "    if pred1 is None or pred2 is None:\n",
    "        correct_cnt += 0.5\n",
    "    elif abs(pred1) > abs(pred2):\n",
    "        correct_cnt += 1\n",
    "    total_cnt += 1\n",
    "\n",
    "print(\"ACC:\", correct_cnt / total_cnt)\n"
   ]
  },
  {
   "cell_type": "markdown",
   "id": "0295ddca",
   "metadata": {
    "id": "a1776a208967"
   },
   "source": [
    "# Learning states with quantum-enhanced experiments"
   ]
  },
  {
   "cell_type": "markdown",
   "id": "7fbf3b6f",
   "metadata": {
    "id": "e6cef1fa4c89"
   },
   "source": [
    "We begin by presenting the supervised neural network model described in the manuscript (See Appendix A.2.d).\n",
    "\n",
    "We train a supervised neural network model using noiseless simulation data from small system sizes. Then we use the trained neural network model on the noisy experimental data obtained from performing quantum-enhanced experiments. The neural network model has three layers. Each of the outer layers runs the preceding inner layer multiple times. In the following, we describe each layer of the neural network model.\n",
    "\n",
    "We begin with the inner layer, which is given by the following code block.\n",
    "Only the inner layer contains trainable parameters. The intermediate layer and the outer layer are both fixed operations based on outputs from the inner layer, which will go through back-propagation but will not be updated."
   ]
  },
  {
   "cell_type": "code",
   "execution_count": 2,
   "id": "5842223e",
   "metadata": {
    "id": "a7df3f4c516f"
   },
   "outputs": [],
   "source": [
    "import torch\n",
    "import torch.nn as nn\n",
    "import torch.nn.functional as F\n",
    "from torch.autograd import Variable\n",
    "\n",
    "class CharRNN(nn.Module):\n",
    "    def __init__(self):\n",
    "        super(CharRNN, self).__init__()\n",
    "        self.encoder = nn.Embedding(16, 30)\n",
    "        self.rnn = nn.GRU(30, 30, 1)\n",
    "        self.decoder = nn.Linear(30, 2)\n",
    "\n",
    "    def forward(self, input, hidden):\n",
    "        batch_size = input.size(0)\n",
    "        encoded = self.encoder(input)\n",
    "        output, hidden = self.rnn(encoded.view(1, batch_size, -1), hidden)\n",
    "        output = self.decoder(output.view(batch_size, -1)).view(batch_size, -1)\n",
    "        return output, hidden\n",
    "\n",
    "    def init_hidden(self, batch_size):\n",
    "        return Variable(torch.zeros(1, batch_size, 30))\n",
    "\n",
    "decoder = CharRNN()\n",
    "decoder_optimizer = torch.optim.Adam(decoder.parameters())\n",
    "criterion = nn.CrossEntropyLoss()"
   ]
  },
  {
   "cell_type": "markdown",
   "id": "5e807619",
   "metadata": {
    "id": "7ddd84812965"
   },
   "source": [
    "Next, we discuss the training process in the neural network model.\n",
    "We use noiseless simulation data (for small system sizes $n < 8$) to train the recurrent neural network.\n",
    "During training, we pick a state $\\rho = 2^{-n}\\left(I+ \\alpha P\\right)$ where $\\alpha \\in \\{-0.95, 0.95\\}$ and $P$ is an $n$-qubit Pauli operator, and pick an $n$-qubit Pauli operator $Q$ that is equal to $P$ with probability $1/2$ and is not equal to $P$ with probability $1/2$.\n",
    "We encode the training data into two Pytorch Variable LongTensors, `inp` and `target`.\n",
    "The encoding is defined by the following.\n",
    "\n",
    "1. The Pytorch Variable LongTensor `inp` is a tensor of size $b \\times n$, where $b$ is the number of quantum-enhanced experiments we performed, $n$ is the number of qubits, and each entry of `inp` is an integer from $0$ to $15$.\n",
    "    The $(t, i)$-th entry of `inp` encodes the component of $Q$ on qubit $i$ (a choice of $4$ for $I, X, Y, Z$) and the Bell measurement outcome on qubit $i$ from the $t$-th quantum-enhanced experiment (also a choice of $4$).\n",
    "    Each entry takes a total of $16$ possible values.\n",
    "    \n",
    "    \n",
    "2. The Pytorch Variable LongTensor `target` is a tensor of size $1$. The entry in `target` is equal to $1$ if $P = Q$, and is equal to $0$ if $P \\neq Q$.\n",
    "\n",
    "Given `inp` of size $b \\times n$ and `target` of size $1$, we train the neural network model using the code block below.\n",
    "We are using the cross entropy loss, `criterion = nn.CrossEntropyLoss()` from the previous code block, and employ the Adam optimizer, which is a gradient-based optimization algorithm that adaptively estimates lower-order moments."
   ]
  },
  {
   "cell_type": "code",
   "execution_count": 3,
   "id": "951961d6",
   "metadata": {
    "id": "1e841550132f"
   },
   "outputs": [],
   "source": [
    "def train(inp, target, b, n):\n",
    "    decoder.train()\n",
    "    \n",
    "    hidden = decoder.init_hidden(b)\n",
    "    decoder.zero_grad()\n",
    "    loss = 0\n",
    "    for c in range(n):\n",
    "        output, hidden = decoder(inp[:,c], hidden)\n",
    "        if c == n-1:\n",
    "            loss += criterion(torch.mean(output.view(b, -1), dim=0, keepdim=True),\\\n",
    "                              target[:])\n",
    "\n",
    "    loss.backward()\n",
    "    decoder_optimizer.step()\n",
    "\n",
    "    return loss.data.item()\n"
   ]
  },
  {
   "cell_type": "markdown",
   "id": "bb87a84e",
   "metadata": {
    "id": "f2309acd349e"
   },
   "source": [
    "Also, we are simultaneously running the $b$ repetitions of the inner layer for each outcome from a single quantum-enhanced experiment in the line `output, hidden = decoder(inp[:,c], hidden)` to leverage parallel computing.\n",
    "Then, we average over the $b$ repetitions of the inner layer through `torch.mean(output.view(b, -1), dim=0, keepdim=True)`.\n",
    "Also, note that `torch.mean(output.view(b, -1), dim=0, keepdim=True)` is a two-dimensional real vector, denoted as $v = (v_0, v_1)$.\n",
    "When `target` is $a \\in \\{0, 1\\}$, the loss function is given by\n",
    "\\begin{equation}\n",
    "    -\\log\\left( \\frac{\\mathrm{e}^{v_a}}{\\mathrm{e}^{v_0} + \\mathrm{e}^{v_1}} \\right).\n",
    "\\end{equation}\n",
    "The two real values $v_0$, $v_1$ are combined to produce a probability distribution\n",
    "\\begin{equation} \\label{eq:prob-NN}\n",
    "    \\frac{\\mathrm{e}^{v_0}}{\\mathrm{e}^{v_0} + \\mathrm{e}^{v_1}} = 1 - \\frac{1}{\\mathrm{e}^{v_0 - v_1} + 1}, \\quad \\frac{\\mathrm{e}^{v_1}}{\\mathrm{e}^{v_0} + \\mathrm{e}^{v_1}} = \\frac{1}{\\mathrm{e}^{v_0 - v_1} + 1},\n",
    "\\end{equation}\n",
    "indicating which of $a=0$ and $a=1$ is more likely.\n",
    "If $v_0 - v_1$ is large, then $a=0$ corresponding to $P \\neq Q$ is more likely. On the other hand, if $v_0 - v_1$ is small, then $a=1$ corresponding to $P = Q$ is more likely.\n",
    "The two lines `loss.backward()` and `decoder_optimizer.step()` computes the gradient through back-propagation and update the model using the rule given in Adam optimizer.\n"
   ]
  },
  {
   "cell_type": "markdown",
   "id": "4b19ce33",
   "metadata": {
    "id": "08f9b224894c"
   },
   "source": [
    "Finally, we discuss the prediction process in the neural network model.\n",
    "Due to the significant amount of measurement errors, we employ a form of measurement error mitigation.\n",
    "We first characterize the measurement errors for every qubit assuming the zero state preparations and $X$-gates are perfect.\n",
    "For each qubit $i$, we obtain a $2\\times 2$ matrix specifying the probability to measure $0$ or $1$ if the qubit is in $\\lvert 0 \\rangle\\!\\langle 0\\rvert$ or $\\lvert 1 \\rangle\\!\\langle 1\\rvert$.\n",
    "We store that as a list of $2 \\times 2$ NumPy array called `calib_2x2`.\n",
    "We then expand the data, referred to as `data` in the Python code, obtained from the quantum-enhanced experiments, which is a two-dimensional NumPy array of size $b \\times (2n)$.\n",
    "Basically, we expand each measurement to $20$ measurements with a real-valued coefficient associated to each of the expanded measurements.\n",
    "Therefore, `data_expanded` is a two-dimensional array of size $(20 b) \\times (2n)$ and `coefficients` is a one-dimensional array of size $20 b$.\n"
   ]
  },
  {
   "cell_type": "code",
   "execution_count": 4,
   "id": "6274defc",
   "metadata": {
    "id": "5ceb790c8f0c"
   },
   "outputs": [],
   "source": [
    "import random\n",
    "\n",
    "def noise_inversion(data, calib_2x2, inverse_cnt=20):\n",
    "    data_expanded, coefficients = [], []\n",
    "    for t in range(len(data)):\n",
    "        for r in range(inverse_cnt):\n",
    "            val = 1.0\n",
    "            single_data = []\n",
    "            \n",
    "            for i in range(len(data[t])):\n",
    "                s1 = data[t][i]\n",
    "                p = calib_2x2[i][1, 1] if s1 == 0 else calib_2x2[i][0, 0]\n",
    "                if random.choices([0, 1], weights = [p, 1-p], k=1)[0] == 1:\n",
    "                    s1 = 1 - s1\n",
    "                    val *= -1\n",
    "                single_data.append(s1)\n",
    "\n",
    "            data_expanded.append(single_data)\n",
    "            coefficients.append(val)\n",
    "    return data_expanded, coefficients"
   ]
  },
  {
   "cell_type": "markdown",
   "id": "5226ed62",
   "metadata": {
    "id": "661688ac3901"
   },
   "source": [
    "After obtaining `data_expanded`, we construct two Pytorch Variable LongTensor `inp1` and `inp2`.\n",
    "Both are tensors of size $(20 b) \\times n$, where $b$ is the number of quantum-enhanced experiments we performed, $n$ is the number of qubits, and each entry of `inp1` and `inp2` is an integer from $0$ to $15$ similar to the training process.\n",
    "Then the neural network make a prediction using the following code.\n"
   ]
  },
  {
   "cell_type": "code",
   "execution_count": 5,
   "id": "bc4cdba6",
   "metadata": {
    "id": "da7f46e53682"
   },
   "outputs": [],
   "source": [
    "def predict_one(inp, coefficients, n):\n",
    "    decoder.eval()\n",
    "\n",
    "    hidden = decoder.init_hidden(len(inp))\n",
    "    decoder.zero_grad()\n",
    "    for c in range(n):\n",
    "        output, hidden = decoder(inp[:,c], hidden)\n",
    "        if c == n-1:\n",
    "            pred = torch.matmul(coefficients, output.view(len(inp), -1)).view(2).detach().numpy()\n",
    "    return pred\n",
    "\n",
    "def predict(inp1, coef1, inp2, coef2, n):\n",
    "    pred1 = predict_one(inp1, coef1, n)\n",
    "    pred2 = predict_one(inp2, coef2, n)\n",
    "\n",
    "    return 1 if (pred1[0] - pred1[1]) < (pred2[0] - pred2[1]) else 2\n"
   ]
  },
  {
   "cell_type": "markdown",
   "id": "de6648e5",
   "metadata": {
    "id": "9ebcc3c70099"
   },
   "source": [
    "We consider `pred1[0] - pred1[1]` based on the discussion above.\n",
    "If `pred1[0] - pred1[1]` is small, then it is more likely that $P = Q_1$.\n",
    "If `pred1[0] - pred1[1]` is small, then it is more likely that $P = Q_2$."
   ]
  },
  {
   "cell_type": "markdown",
   "id": "4d4cf3be",
   "metadata": {
    "id": "3c9ce2bd7530"
   },
   "source": [
    "We now present the complete code for training the neural network and making predictions on the data."
   ]
  },
  {
   "cell_type": "code",
   "execution_count": 6,
   "id": "cebeda72",
   "metadata": {
    "id": "856a69fb100e",
    "scrolled": true
   },
   "outputs": [
    {
     "name": "stderr",
     "output_type": "stream",
     "text": [
      "  0%|                                          | 1/3000 [00:00<05:08,  9.74it/s]"
     ]
    },
    {
     "name": "stdout",
     "output_type": "stream",
     "text": [
      "Training for 10000 examples...\n"
     ]
    },
    {
     "name": "stderr",
     "output_type": "stream",
     "text": [
      "  3%|█▎                                      | 101/3000 [00:07<04:04, 11.86it/s]"
     ]
    },
    {
     "name": "stdout",
     "output_type": "stream",
     "text": [
      "LOSS 0.7010987719893456\n"
     ]
    },
    {
     "name": "stderr",
     "output_type": "stream",
     "text": [
      "  7%|██▋                                     | 201/3000 [00:17<03:26, 13.57it/s]"
     ]
    },
    {
     "name": "stdout",
     "output_type": "stream",
     "text": [
      "LOSS 0.7056578263640404\n"
     ]
    },
    {
     "name": "stderr",
     "output_type": "stream",
     "text": [
      "  8%|███▏                                  | 252/3000 [01:11<4:30:58,  5.92s/it]"
     ]
    },
    {
     "name": "stdout",
     "output_type": "stream",
     "text": [
      "ACC 0.35\n"
     ]
    },
    {
     "name": "stderr",
     "output_type": "stream",
     "text": [
      " 10%|████                                    | 302/3000 [01:15<03:25, 13.15it/s]"
     ]
    },
    {
     "name": "stdout",
     "output_type": "stream",
     "text": [
      "LOSS 0.6880712875723839\n"
     ]
    },
    {
     "name": "stderr",
     "output_type": "stream",
     "text": [
      " 13%|█████▎                                  | 402/3000 [01:22<03:25, 12.65it/s]"
     ]
    },
    {
     "name": "stdout",
     "output_type": "stream",
     "text": [
      "LOSS 0.6891044595837593\n"
     ]
    },
    {
     "name": "stderr",
     "output_type": "stream",
     "text": [
      " 17%|██████▋                                 | 498/3000 [01:30<03:23, 12.29it/s]"
     ]
    },
    {
     "name": "stdout",
     "output_type": "stream",
     "text": [
      "LOSS 0.6756314340233803\n"
     ]
    },
    {
     "name": "stderr",
     "output_type": "stream",
     "text": [
      " 17%|██████▎                               | 502/3000 [02:16<3:22:40,  4.87s/it]"
     ]
    },
    {
     "name": "stdout",
     "output_type": "stream",
     "text": [
      "ACC 0.525\n"
     ]
    },
    {
     "name": "stderr",
     "output_type": "stream",
     "text": [
      " 20%|████████                                | 602/3000 [02:24<02:59, 13.39it/s]"
     ]
    },
    {
     "name": "stdout",
     "output_type": "stream",
     "text": [
      "LOSS 0.6718862247467041\n"
     ]
    },
    {
     "name": "stderr",
     "output_type": "stream",
     "text": [
      " 23%|█████████▎                              | 702/3000 [02:32<03:02, 12.62it/s]"
     ]
    },
    {
     "name": "stdout",
     "output_type": "stream",
     "text": [
      "LOSS 0.634903935790062\n"
     ]
    },
    {
     "name": "stderr",
     "output_type": "stream",
     "text": [
      " 25%|█████████▌                            | 752/3000 [03:23<3:07:46,  5.01s/it]"
     ]
    },
    {
     "name": "stdout",
     "output_type": "stream",
     "text": [
      "ACC 0.425\n"
     ]
    },
    {
     "name": "stderr",
     "output_type": "stream",
     "text": [
      " 27%|██████████▋                             | 802/3000 [03:27<02:48, 13.03it/s]"
     ]
    },
    {
     "name": "stdout",
     "output_type": "stream",
     "text": [
      "LOSS 0.6466570368409157\n"
     ]
    },
    {
     "name": "stderr",
     "output_type": "stream",
     "text": [
      " 30%|████████████                            | 902/3000 [03:35<02:51, 12.26it/s]"
     ]
    },
    {
     "name": "stdout",
     "output_type": "stream",
     "text": [
      "LOSS 0.5890597422420979\n"
     ]
    },
    {
     "name": "stderr",
     "output_type": "stream",
     "text": [
      " 33%|█████████████▎                          | 998/3000 [03:42<02:26, 13.63it/s]"
     ]
    },
    {
     "name": "stdout",
     "output_type": "stream",
     "text": [
      "LOSS 0.5411157709360123\n"
     ]
    },
    {
     "name": "stderr",
     "output_type": "stream",
     "text": [
      " 33%|████████████▎                        | 1001/3000 [04:30<3:17:40,  5.93s/it]"
     ]
    },
    {
     "name": "stdout",
     "output_type": "stream",
     "text": [
      "ACC 0.65\n"
     ]
    },
    {
     "name": "stderr",
     "output_type": "stream",
     "text": [
      " 37%|██████████████▎                        | 1100/3000 [04:39<02:48, 11.27it/s]"
     ]
    },
    {
     "name": "stdout",
     "output_type": "stream",
     "text": [
      "LOSS 0.4691870480775833\n"
     ]
    },
    {
     "name": "stderr",
     "output_type": "stream",
     "text": [
      " 40%|███████████████▌                       | 1201/3000 [04:48<02:38, 11.36it/s]"
     ]
    },
    {
     "name": "stdout",
     "output_type": "stream",
     "text": [
      "LOSS 0.3367442492954433\n"
     ]
    },
    {
     "name": "stderr",
     "output_type": "stream",
     "text": [
      " 42%|███████████████▍                     | 1251/3000 [05:46<3:41:02,  7.58s/it]"
     ]
    },
    {
     "name": "stdout",
     "output_type": "stream",
     "text": [
      "ACC 1.0\n"
     ]
    },
    {
     "name": "stderr",
     "output_type": "stream",
     "text": [
      " 43%|████████████████▉                      | 1300/3000 [05:51<02:59,  9.45it/s]"
     ]
    },
    {
     "name": "stdout",
     "output_type": "stream",
     "text": [
      "LOSS 0.247039335956797\n"
     ]
    },
    {
     "name": "stderr",
     "output_type": "stream",
     "text": [
      " 47%|██████████████████▏                    | 1400/3000 [06:02<02:29, 10.70it/s]"
     ]
    },
    {
     "name": "stdout",
     "output_type": "stream",
     "text": [
      "LOSS 0.13162528837798163\n"
     ]
    },
    {
     "name": "stderr",
     "output_type": "stream",
     "text": [
      " 50%|███████████████████▍                   | 1498/3000 [06:11<02:17, 10.91it/s]"
     ]
    },
    {
     "name": "stdout",
     "output_type": "stream",
     "text": [
      "LOSS 0.10982349822064862\n"
     ]
    },
    {
     "name": "stderr",
     "output_type": "stream",
     "text": [
      " 50%|██████████████████▌                  | 1502/3000 [06:58<2:03:20,  4.94s/it]"
     ]
    },
    {
     "name": "stdout",
     "output_type": "stream",
     "text": [
      "ACC 1.0\n"
     ]
    },
    {
     "name": "stderr",
     "output_type": "stream",
     "text": [
      " 53%|████████████████████▊                  | 1602/3000 [07:06<01:47, 13.04it/s]"
     ]
    },
    {
     "name": "stdout",
     "output_type": "stream",
     "text": [
      "LOSS 0.12103115448204335\n"
     ]
    },
    {
     "name": "stderr",
     "output_type": "stream",
     "text": [
      " 57%|██████████████████████▏                | 1702/3000 [07:15<01:59, 10.90it/s]"
     ]
    },
    {
     "name": "stdout",
     "output_type": "stream",
     "text": [
      "LOSS 0.09271536265936448\n"
     ]
    },
    {
     "name": "stderr",
     "output_type": "stream",
     "text": [
      " 58%|█████████████████████▌               | 1751/3000 [08:06<2:01:00,  5.81s/it]"
     ]
    },
    {
     "name": "stdout",
     "output_type": "stream",
     "text": [
      "ACC 1.0\n"
     ]
    },
    {
     "name": "stderr",
     "output_type": "stream",
     "text": [
      " 60%|███████████████████████▍               | 1801/3000 [08:10<01:32, 12.94it/s]"
     ]
    },
    {
     "name": "stdout",
     "output_type": "stream",
     "text": [
      "LOSS 0.05863530368718784\n"
     ]
    },
    {
     "name": "stderr",
     "output_type": "stream",
     "text": [
      " 63%|████████████████████████▋              | 1902/3000 [08:19<01:53,  9.68it/s]"
     ]
    },
    {
     "name": "stdout",
     "output_type": "stream",
     "text": [
      "LOSS 0.07748784126131796\n"
     ]
    },
    {
     "name": "stderr",
     "output_type": "stream",
     "text": [
      " 67%|█████████████████████████▉             | 1999/3000 [08:29<01:58,  8.45it/s]"
     ]
    },
    {
     "name": "stdout",
     "output_type": "stream",
     "text": [
      "LOSS 0.05077959488233318\n"
     ]
    },
    {
     "name": "stderr",
     "output_type": "stream",
     "text": [
      " 67%|████████████████████████▋            | 2001/3000 [09:26<2:54:39, 10.49s/it]"
     ]
    },
    {
     "name": "stdout",
     "output_type": "stream",
     "text": [
      "ACC 1.0\n"
     ]
    },
    {
     "name": "stderr",
     "output_type": "stream",
     "text": [
      " 70%|███████████████████████████▎           | 2101/3000 [09:38<01:40,  8.92it/s]"
     ]
    },
    {
     "name": "stdout",
     "output_type": "stream",
     "text": [
      "LOSS 0.06307093953641014\n"
     ]
    },
    {
     "name": "stderr",
     "output_type": "stream",
     "text": [
      " 73%|████████████████████████████▌          | 2201/3000 [09:52<01:42,  7.82it/s]"
     ]
    },
    {
     "name": "stdout",
     "output_type": "stream",
     "text": [
      "LOSS 0.07622316960681928\n"
     ]
    },
    {
     "name": "stderr",
     "output_type": "stream",
     "text": [
      " 75%|███████████████████████████▊         | 2251/3000 [10:57<1:38:08,  7.86s/it]"
     ]
    },
    {
     "name": "stdout",
     "output_type": "stream",
     "text": [
      "ACC 1.0\n"
     ]
    },
    {
     "name": "stderr",
     "output_type": "stream",
     "text": [
      " 77%|█████████████████████████████▉         | 2301/3000 [11:02<01:23,  8.35it/s]"
     ]
    },
    {
     "name": "stdout",
     "output_type": "stream",
     "text": [
      "LOSS 0.037912848099367694\n"
     ]
    },
    {
     "name": "stderr",
     "output_type": "stream",
     "text": [
      " 80%|███████████████████████████████▏       | 2401/3000 [11:14<01:10,  8.50it/s]"
     ]
    },
    {
     "name": "stdout",
     "output_type": "stream",
     "text": [
      "LOSS 0.03832163298844535\n"
     ]
    },
    {
     "name": "stderr",
     "output_type": "stream",
     "text": [
      " 83%|████████████████████████████████▍      | 2499/3000 [11:30<01:29,  5.57it/s]"
     ]
    },
    {
     "name": "stdout",
     "output_type": "stream",
     "text": [
      "LOSS 0.02484862251330469\n"
     ]
    },
    {
     "name": "stderr",
     "output_type": "stream",
     "text": [
      " 83%|██████████████████████████████▊      | 2501/3000 [12:30<1:43:46, 12.48s/it]"
     ]
    },
    {
     "name": "stdout",
     "output_type": "stream",
     "text": [
      "ACC 1.0\n"
     ]
    },
    {
     "name": "stderr",
     "output_type": "stream",
     "text": [
      " 87%|█████████████████████████████████▊     | 2601/3000 [12:40<00:45,  8.84it/s]"
     ]
    },
    {
     "name": "stdout",
     "output_type": "stream",
     "text": [
      "LOSS 0.04351241139576814\n"
     ]
    },
    {
     "name": "stderr",
     "output_type": "stream",
     "text": [
      " 90%|███████████████████████████████████    | 2700/3000 [12:51<00:28, 10.46it/s]"
     ]
    },
    {
     "name": "stdout",
     "output_type": "stream",
     "text": [
      "LOSS 0.03283559548246558\n"
     ]
    },
    {
     "name": "stderr",
     "output_type": "stream",
     "text": [
      " 92%|███████████████████████████████████▊   | 2751/3000 [13:49<31:55,  7.69s/it]"
     ]
    },
    {
     "name": "stdout",
     "output_type": "stream",
     "text": [
      "ACC 1.0\n"
     ]
    },
    {
     "name": "stderr",
     "output_type": "stream",
     "text": [
      " 93%|████████████████████████████████████▍  | 2802/3000 [13:55<00:21,  9.22it/s]"
     ]
    },
    {
     "name": "stdout",
     "output_type": "stream",
     "text": [
      "LOSS 0.027417695932817877\n"
     ]
    },
    {
     "name": "stderr",
     "output_type": "stream",
     "text": [
      " 97%|█████████████████████████████████████▋ | 2900/3000 [14:05<00:08, 11.27it/s]"
     ]
    },
    {
     "name": "stdout",
     "output_type": "stream",
     "text": [
      "LOSS 0.018936340993477643\n"
     ]
    },
    {
     "name": "stderr",
     "output_type": "stream",
     "text": [
      "100%|██████████████████████████████████████▉| 2999/3000 [14:18<00:00,  4.79it/s]"
     ]
    },
    {
     "name": "stdout",
     "output_type": "stream",
     "text": [
      "LOSS 0.02224759492623889\n"
     ]
    },
    {
     "name": "stderr",
     "output_type": "stream",
     "text": [
      "100%|███████████████████████████████████████| 3000/3000 [15:09<00:00,  3.30it/s]"
     ]
    },
    {
     "name": "stdout",
     "output_type": "stream",
     "text": [
      "ACC 1.0\n"
     ]
    },
    {
     "name": "stderr",
     "output_type": "stream",
     "text": [
      "\n"
     ]
    }
   ],
   "source": [
    "from tqdm import tqdm\n",
    "import cirq\n",
    "import numpy as np\n",
    "from os import listdir\n",
    "import random\n",
    "from os.path import isfile, join\n",
    "from cirq import Simulator\n",
    "simulator = Simulator()\n",
    "\n",
    "all_paulis = dict([(\"I\",0), (\"X\",1), (\"Y\",2), (\"Z\",3)])\n",
    "\n",
    "def entire_process_predict_Pauli_observable(qubits, hidden_P, num_rep):\n",
    "    n = len(qubits) // 2\n",
    "    output = []\n",
    "    \n",
    "    sign_p = -1 if np.random.random() < 0.5 else 1\n",
    "    for _ in range(num_rep):\n",
    "        circuit = cirq.Circuit()\n",
    "\n",
    "        last_i = 0\n",
    "        for i, pauli in enumerate(hidden_P):\n",
    "            if pauli != \"I\":\n",
    "                last_i = i\n",
    "            \n",
    "        for twocopy in [0, 1]:\n",
    "            parity = sign_p\n",
    "            for i, pauli in enumerate(hidden_P):\n",
    "                if pauli != \"I\":\n",
    "                    if last_i == i:\n",
    "                        if parity == -1:\n",
    "                            circuit += cirq.X(qubits[2*i+twocopy])\n",
    "                    elif random.choice([0, 1]) == 1:\n",
    "                        parity *= -1\n",
    "                        circuit += cirq.X(qubits[2*i+twocopy])\n",
    "                else:\n",
    "                    if random.choice([0, 1]) == 1:\n",
    "                        circuit += cirq.X(qubits[2*i+twocopy])\n",
    "\n",
    "                if pauli == \"X\":\n",
    "                    circuit += cirq.H(qubits[2*i+twocopy])\n",
    "                if pauli == \"Y\":\n",
    "                    circuit += cirq.H(qubits[2*i+twocopy])\n",
    "                    circuit += cirq.S(qubits[2*i+twocopy])\n",
    "\n",
    "        for i, pauli in enumerate(hidden_P):\n",
    "            circuit += cirq.CNOT(qubits[2*i], qubits[2*i+1])\n",
    "            circuit += cirq.H(qubits[2*i])\n",
    "\n",
    "        for i, qubit in enumerate(qubits):\n",
    "            circuit += cirq.measure(qubit, key='q{}'.format(i))\n",
    "\n",
    "        samples = simulator.run(circuit, repetitions=1)\n",
    "\n",
    "        raw_samples = np.zeros(len(qubits), dtype=int)\n",
    "        for i in range(len(qubits)):\n",
    "            raw_samples[i] = samples.data['q{}'.format(i)]\n",
    "\n",
    "        output.append(raw_samples)\n",
    "\n",
    "    return output\n",
    "\n",
    "def sample_one(b_experi, n_qubits):\n",
    "    qubits = cirq.GridQubit.rect(n_qubits, 2)\n",
    "\n",
    "    true_p = [random.choice([\"I\", \"X\", \"Y\", \"Z\"]) for i in range(n_qubits)]\n",
    "    while sum([p == \"I\" for p in true_p]) == n_qubits:\n",
    "        true_p = [random.choice([\"I\", \"X\", \"Y\", \"Z\"]) for i in range(n_qubits)]\n",
    "    data = entire_process_predict_Pauli_observable(qubits, true_p, b_experi)\n",
    "\n",
    "    true_or_fake = random.choice([0, 1])\n",
    "\n",
    "    rand_P = [random.choice([\"I\", \"X\", \"Y\", \"Z\"]) for i in range(n_qubits)]\n",
    "    while min([x == y for (x, y) in zip(true_p, rand_P)]) == 1 or sum([p == \"I\" for p in rand_P]) == n_qubits:\n",
    "        rand_P = [random.choice([\"I\", \"X\", \"Y\", \"Z\"]) for i in range(n_qubits)]\n",
    "    \n",
    "    fake_p = true_p if true_or_fake == 1 else rand_P\n",
    "    \n",
    "    input_X = np.zeros((len(data), n_qubits))\n",
    "    for i in range(len(data)):\n",
    "        for j in range(0, len(data[i]), 2):\n",
    "            input_X[i][j//2] = data[i][j]*2 + data[i][j+1]\n",
    "            input_X[i][j//2] += all_paulis[fake_p[j//2]] * 4\n",
    "\n",
    "    return input_X, true_or_fake\n",
    "\n",
    "def random_training_set(b_experi, n_qubits):\n",
    "    input_X, true_or_fake = sample_one(b_experi, n_qubits)\n",
    "\n",
    "    inp = torch.LongTensor(input_X)\n",
    "    target = torch.LongTensor(1)\n",
    "    target[0] = true_or_fake\n",
    "\n",
    "    inp = Variable(inp)\n",
    "    target = Variable(target)\n",
    "    return inp, target\n",
    "\n",
    "def construct_from_exp(data, chosen_pauli, calib_2x2, n_qubits):\n",
    "    data, coef = noise_inversion(data, calib_2x2, inverse_cnt=20)\n",
    "\n",
    "    input_X = np.zeros((len(data), n_qubits))\n",
    "    for i in range(len(data)):\n",
    "        for j in range(0, len(data[i]), 2):\n",
    "            input_X[i][j//2] = data[i][j]*2 + data[i][j+1]\n",
    "            input_X[i][j//2] += all_paulis[chosen_pauli[j//2]] * 4\n",
    "    inp = torch.LongTensor(input_X)\n",
    "    inp = Variable(inp)\n",
    "\n",
    "    coe_sign = torch.FloatTensor(coef) / len(coef)\n",
    "    \n",
    "    return inp, coe_sign\n",
    "\n",
    "def get_accuracy(n):\n",
    "    mypath = \"data/\"\n",
    "    correct_cnt, total_cnt = 0, 0\n",
    "    \n",
    "    # Noiseless simulation (measurement error = 0)\n",
    "    calib_2x2 = []\n",
    "    for i in range(2*n):\n",
    "        conf_mtx = np.zeros((2, 2))\n",
    "        conf_mtx[0][0] = 1\n",
    "        conf_mtx[0][1] = 0\n",
    "        conf_mtx[1][0] = 0\n",
    "        conf_mtx[1][1] = 1\n",
    "        calib_2x2.append(conf_mtx)\n",
    "\n",
    "    onlyfiles = [f for f in listdir(mypath) if isfile(join(mypath, f))]\n",
    "\n",
    "    for file in onlyfiles * 2:\n",
    "        splt = file.split(\"-\")\n",
    "        \n",
    "        if splt[0] != \"Q\": continue\n",
    "        if int(splt[2]) != n: continue\n",
    "        \n",
    "        true_P = splt[-1][:-4]\n",
    "        data = np.random.permutation(np.load(join(mypath, file)))\n",
    "\n",
    "        rand_P = [random.choice([\"I\", \"X\", \"Y\", \"Z\"]) for i in range(n)]\n",
    "        while min([x == y for (x, y) in zip(true_P, rand_P)]) == 1 or sum([p == \"I\" for p in rand_P]) == n:\n",
    "            rand_P = [random.choice([\"I\", \"X\", \"Y\", \"Z\"]) for i in range(n)]\n",
    "\n",
    "        pred = predict(*construct_from_exp(data, true_P, calib_2x2, n),\n",
    "                       *construct_from_exp(data, rand_P, calib_2x2, n), n)\n",
    "\n",
    "        if pred == 1:\n",
    "            correct_cnt += 1\n",
    "        total_cnt += 1\n",
    "\n",
    "    return correct_cnt / total_cnt\n",
    "\n",
    "print(\"Training for %d examples...\" % 10000)\n",
    "\n",
    "store_all_loss = []\n",
    "store_all_acc = []\n",
    "for epoch in tqdm(range(1, 3000 + 1), position=0, leave=True):\n",
    "    n_qubits = random.choice(range(2, min(8, 4 + (epoch // 1000))))\n",
    "    loss = train(*random_training_set(15, n_qubits), 15, n_qubits)\n",
    "    store_all_loss.append(loss)\n",
    "\n",
    "    if epoch % 100 == 0:\n",
    "        print(\"LOSS\", np.mean(store_all_loss[-100:]))\n",
    "    if epoch % 250 == 0:\n",
    "        n = 8 # predict on data for system size n = 8\n",
    "        store_all_acc.append(get_accuracy(n))\n",
    "        print(\"ACC\", store_all_acc[-1])"
   ]
  },
  {
   "cell_type": "markdown",
   "id": "f99a23cb",
   "metadata": {
    "id": "24519510bfeb"
   },
   "source": [
    "# Learning dynamics with conventional experiments"
   ]
  },
  {
   "cell_type": "markdown",
   "id": "4788589f",
   "metadata": {
    "id": "cd2a069faabd"
   },
   "source": [
    "Using kernel principal component analysis to analyze data from conventional experiments."
   ]
  },
  {
   "cell_type": "code",
   "execution_count": 8,
   "id": "73b49942",
   "metadata": {
    "id": "0d64242102a3"
   },
   "outputs": [
    {
     "data": {
      "text/plain": [
       "<matplotlib.legend.Legend at 0x7fcc5c1ecf70>"
      ]
     },
     "execution_count": 8,
     "metadata": {},
     "output_type": "execute_result"
    },
    {
     "data": {
      "image/png": "[encoded data removed]",
      "text/plain": [
       "<Figure size 201.6x216 with 1 Axes>"
      ]
     },
     "metadata": {},
     "output_type": "display_data"
    }
   ],
   "source": [
    "import numpy as np\n",
    "from scipy.stats import moment\n",
    "import matplotlib.pyplot as plt\n",
    "import seaborn as sns\n",
    "import pandas as pd\n",
    "from sklearn import svm\n",
    "from sklearn.ensemble import RandomForestClassifier, RandomForestRegressor, GradientBoostingClassifier\n",
    "from os import listdir\n",
    "import random\n",
    "from os.path import isfile, join\n",
    "from sklearn import preprocessing\n",
    "from sklearn.decomposition import KernelPCA\n",
    "\n",
    "np.random.seed(200)\n",
    "sns.set(font_scale=1.3)\n",
    "sns.set_style(\"ticks\")\n",
    "\n",
    "number_of_experiment = 50\n",
    "\n",
    "fig=plt.figure(figsize=(1.4*2, 1.5*2))\n",
    "mypath = \"./data\"\n",
    "\n",
    "full_data = []\n",
    "for size in [8]:\n",
    "    full_X = []\n",
    "    label = []\n",
    "    \n",
    "    for depth in [5]:\n",
    "        config = \"1D-scramble-C-size-{}-depth-{}-\".format(size, depth)\n",
    "\n",
    "        list_pred = []\n",
    "        for b in range(0, 20, 5):\n",
    "            for i in range(0, 5):\n",
    "                data = np.load(join(mypath, config+'type-0-batch-{}-number-{}.npy'.format(b, i)))\n",
    "                data = np.random.permutation(data)[:number_of_experiment]\n",
    "                feature_vec = np.concatenate((np.mean(data, axis=0), [np.std(np.mean(data, axis=0))]))\n",
    "                \n",
    "                full_X.append(feature_vec)\n",
    "                label.append([\"General\", depth])\n",
    "\n",
    "    for depth in [5]:\n",
    "        config = \"1D-scramble-C-size-{}-depth-{}-\".format(size, depth)\n",
    "\n",
    "        for b in range(0, 20, 5):\n",
    "            for i in range(0, 5):\n",
    "                data = np.load(join(mypath, config+'type-1-batch-{}-number-{}.npy'.format(b, i)))\n",
    "                data = np.random.permutation(data)[:number_of_experiment]\n",
    "                feature_vec = np.concatenate((np.mean(data, axis=0), [np.std(np.mean(data, axis=0))]))\n",
    "\n",
    "                full_X.append(feature_vec)\n",
    "                label.append([\"T-symmetry\", depth])\n",
    "\n",
    "    full_X = np.array(full_X)\n",
    "    min_max_scaler = preprocessing.MinMaxScaler()\n",
    "    full_X = min_max_scaler.fit_transform(full_X)* 0.8\n",
    "    transformer = KernelPCA(n_components=2, kernel='rbf')\n",
    "    X_transformed = transformer.fit_transform(full_X)\n",
    "\n",
    "    full_data.extend([x + y for x, y in zip(X_transformed.tolist(), label)])\n",
    "    \n",
    "df = pd.DataFrame(full_data, columns=['x', 'y', 'Evolution', 'Depth'])\n",
    "\n",
    "\n",
    "sns.rugplot(data=df[df[\"Evolution\"]==\"General\"], x=\"x\", hue=\"Evolution\", alpha=.5, height=0.1, palette=[\"#80A3FA\"])\n",
    "sns.rugplot(data=df[df[\"Evolution\"]==\"T-symmetry\"], x=\"x\", hue=\"Evolution\", alpha=.5, height=0.1, palette=[\"#ED686D\"])\n",
    "g = sns.stripplot(data=df[df[\"Evolution\"]==\"General\"], x=\"x\", hue=\"Evolution\", marker=\"D\", jitter=0.03, size=8, alpha=0.35, palette=[\"#80A3FA\"])\n",
    "g.set(yticks=[])\n",
    "g = sns.stripplot(data=df[df[\"Evolution\"]==\"T-symmetry\"], x=\"x\", hue=\"Evolution\", marker=\"o\", jitter=0.03, size=8, alpha=0.35, palette=[\"#ED686D\"])\n",
    "g.set(yticks=[])\n",
    "plt.xlim(-0.5, 0.5)\n",
    "plt.xlabel(\"1D representation\")\n",
    "plt.ylabel(\"\")\n",
    "\n",
    "plt.legend([], [], frameon=[])\n"
   ]
  },
  {
   "cell_type": "markdown",
   "id": "1cf42f8a",
   "metadata": {
    "id": "26086621407b"
   },
   "source": [
    "# Learning dynamics with quantum-enhanced experiments"
   ]
  },
  {
   "cell_type": "markdown",
   "id": "26f62974",
   "metadata": {
    "id": "4fca7c48810a"
   },
   "source": [
    "Using kernel principal component analysis to analyze data from quantum-enhanced experiments."
   ]
  },
  {
   "cell_type": "code",
   "execution_count": 9,
   "id": "86d18502",
   "metadata": {
    "id": "274b45e35277"
   },
   "outputs": [
    {
     "data": {
      "text/plain": [
       "<matplotlib.legend.Legend at 0x7fcbde4d4250>"
      ]
     },
     "execution_count": 9,
     "metadata": {},
     "output_type": "execute_result"
    },
    {
     "data": {
      "image/png": "[encoded data removed]",
      "text/plain": [
       "<Figure size 201.6x216 with 1 Axes>"
      ]
     },
     "metadata": {},
     "output_type": "display_data"
    }
   ],
   "source": [
    "import numpy as np\n",
    "from scipy.stats import moment\n",
    "import matplotlib.pyplot as plt\n",
    "import seaborn as sns\n",
    "import pandas as pd\n",
    "from sklearn import svm\n",
    "from sklearn.ensemble import RandomForestClassifier, RandomForestRegressor, GradientBoostingClassifier\n",
    "from os import listdir\n",
    "import random\n",
    "from os.path import isfile, join\n",
    "from sklearn import preprocessing\n",
    "from sklearn.decomposition import KernelPCA\n",
    "\n",
    "np.random.seed(200)\n",
    "sns.set(font_scale=1.3)\n",
    "sns.set_style(\"ticks\")\n",
    "\n",
    "number_of_experiment = 50\n",
    "\n",
    "fig=plt.figure(figsize=(1.4*2, 1.5*2))\n",
    "mypath = \"data\"\n",
    "\n",
    "full_data = []\n",
    "for size in [8]:\n",
    "    full_X = []\n",
    "    label = []\n",
    "    \n",
    "    for depth in [5]:\n",
    "        config = \"1D-scramble-Q-size-{}-depth-{}-\".format(size, depth)\n",
    "\n",
    "        list_pred = []\n",
    "        for b in range(0, 20, 5):\n",
    "            for i in range(0, 5):\n",
    "                data = np.load(join(mypath, config+'type-0-batch-{}-number-{}.npy'.format(b, i)))\n",
    "                data = np.random.permutation(data)[:number_of_experiment]\n",
    "                feature_vec = np.concatenate((np.mean(data, axis=0), [np.std(np.mean(data, axis=0))]))\n",
    "                \n",
    "                full_X.append(feature_vec)\n",
    "                label.append([\"General\", depth])\n",
    "\n",
    "    for depth in [5]:\n",
    "        config = \"1D-scramble-Q-size-{}-depth-{}-\".format(size, depth)\n",
    "\n",
    "        for b in range(0, 20, 5):\n",
    "            for i in range(0, 5):\n",
    "                data = np.load(join(mypath, config+'type-1-batch-{}-number-{}.npy'.format(b, i)))\n",
    "                data = np.random.permutation(data)[:number_of_experiment]\n",
    "                feature_vec = np.concatenate((np.mean(data, axis=0), [np.std(np.mean(data, axis=0))]))\n",
    "\n",
    "                full_X.append(feature_vec)\n",
    "                label.append([\"T-symmetry\", depth])\n",
    "\n",
    "    full_X = np.array(full_X)\n",
    "    min_max_scaler = preprocessing.MinMaxScaler()\n",
    "    full_X = min_max_scaler.fit_transform(full_X)* 0.8\n",
    "    transformer = KernelPCA(n_components=2, kernel='rbf')\n",
    "    X_transformed = transformer.fit_transform(full_X)\n",
    "\n",
    "    full_data.extend([x + y for x, y in zip(X_transformed.tolist(), label)])\n",
    "    \n",
    "df = pd.DataFrame(full_data, columns=['x', 'y', 'Evolution', 'Depth'])\n",
    "\n",
    "\n",
    "sns.rugplot(data=df[df[\"Evolution\"]==\"General\"], x=\"x\", hue=\"Evolution\", alpha=.5, height=0.1, palette=[\"#80A3FA\"])\n",
    "sns.rugplot(data=df[df[\"Evolution\"]==\"T-symmetry\"], x=\"x\", hue=\"Evolution\", alpha=.5, height=0.1, palette=[\"#ED686D\"])\n",
    "g = sns.stripplot(data=df[df[\"Evolution\"]==\"General\"], x=\"x\", hue=\"Evolution\", marker=\"D\", jitter=0.03, size=8, alpha=0.35, palette=[\"#80A3FA\"])\n",
    "g.set(yticks=[])\n",
    "g = sns.stripplot(data=df[df[\"Evolution\"]==\"T-symmetry\"], x=\"x\", hue=\"Evolution\", marker=\"o\", jitter=0.03, size=8, alpha=0.35, palette=[\"#ED686D\"])\n",
    "g.set(yticks=[])\n",
    "plt.xlim(-0.5, 0.5)\n",
    "plt.xlabel(\"1D representation\")\n",
    "plt.ylabel(\"\")\n",
    "\n",
    "plt.legend([], [], frameon=[])\n"
   ]
  }
 ],
 "metadata": {
  "colab": {
   "name": "Data-Analysis.ipynb",
   "toc_visible": true
  },
  "kernelspec": {
   "display_name": "Python 3 (ipykernel)",
   "language": "python",
   "name": "python3"
  },
  "language_info": {
   "codemirror_mode": {
    "name": "ipython",
    "version": 3
   },
   "file_extension": ".py",
   "mimetype": "text/x-python",
   "name": "python",
   "nbconvert_exporter": "python",
   "pygments_lexer": "ipython3",
   "version": "3.9.9"
  }
 },
 "nbformat": 4,
 "nbformat_minor": 1
}
